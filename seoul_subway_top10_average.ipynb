{
 "cells": [
  {
   "cell_type": "markdown",
   "id": "8783219b",
   "metadata": {},
   "source": [
    "# 서울시 지하철 시간대별 유동인구 분석 및 상위역 출력 (일평균)\n",
    "\n",
    "- 출근/퇴근 시간대별 승하차 히트맵 시각화\n",
    "- 상위 10개 혼잡역 (일일 평균 인원 기준) 콘솔에 출력"
   ]
  },
  {
   "cell_type": "code",
   "execution_count": 1,
   "id": "2345d38a",
   "metadata": {},
   "outputs": [],
   "source": [
    "import pandas as pd\n",
    "\n",
    "# 데이터 로드\n",
    "df_time = pd.read_csv('seoul_subway_by_time.csv', encoding='cp949')\n",
    "df_xy = pd.read_csv('seoul_subway_xy.csv')\n",
    "\n",
    "# 필요한 컬럼\n",
    "cols_needed = ['지하철역', '08시-09시 승차인원', '08시-09시 하차인원', '18시-19시 승차인원', '18시-19시 하차인원']\n",
    "df_time_filtered = df_time[cols_needed].copy()\n",
    "df_time_filtered['지하철역'] = df_time_filtered['지하철역'].str.strip()\n",
    "\n",
    "# 집계\n",
    "df_grouped = df_time_filtered.groupby('지하철역').sum().reset_index()\n",
    "\n",
    "# 좌표 전처리 및 병합\n",
    "df_xy['역한글명칭'] = df_xy['역한글명칭'].str.strip()\n",
    "df_coords = df_xy.groupby('역한글명칭')[['환승역X좌표', '환승역Y좌표']].mean().reset_index()\n",
    "\n",
    "df = pd.merge(df_grouped, df_coords, left_on='지하철역', right_on='역한글명칭', how='inner')"
   ]
  },
  {
   "cell_type": "code",
   "execution_count": 3,
   "id": "a053113a",
   "metadata": {},
   "outputs": [],
   "source": [
    "# 일일 평균 계산 및 상위 10개 출력 함수 정의\n",
    "columns_to_avg = [\n",
    "    '08시-09시 승차인원', '08시-09시 하차인원',\n",
    "    '18시-19시 승차인원', '18시-19시 하차인원'\n",
    "]\n",
    "\n",
    "df_avg = df.copy()\n",
    "for col in columns_to_avg:\n",
    "    df_avg[col] = df_avg[col] / 31\n",
    "\n",
    "def print_top10(df, col, title):\n",
    "    top10 = df.sort_values(by=col, ascending=False).head(10).reset_index(drop=True)\n",
    "    print(f\"\\n📌 {title} 상위 10개 역 (일평균 기준)\")\n",
    "    for i, row in top10.iterrows():\n",
    "        station = row['지하철역']\n",
    "        count = int(round(row[col]))\n",
    "        print(f\"{i+1}. {station} - {count:,}명\")"
   ]
  },
  {
   "cell_type": "code",
   "execution_count": 5,
   "id": "f07c8fb4",
   "metadata": {},
   "outputs": [
    {
     "name": "stdout",
     "output_type": "stream",
     "text": [
      "\n",
      "📌 출근시간 승차 상위 10개 역 (일평균 기준)\n",
      "1. 신림 - 1,259,489명\n",
      "2. 사당 - 781,158명\n",
      "3. 구로디지털단지 - 759,678명\n",
      "4. 연신내 - 657,901명\n",
      "5. 신도림 - 652,767명\n",
      "6. 까치산 - 624,030명\n",
      "7. 잠실(송파구청) - 620,633명\n",
      "8. 서울대입구(관악구청) - 607,001명\n",
      "9. 화곡 - 592,249명\n",
      "10. 수유(강북구청) - 574,293명\n",
      "\n",
      "📌 출근시간 하차 상위 10개 역 (일평균 기준)\n",
      "1. 가산디지털단지 - 2,182,671명\n",
      "2. 선릉 - 1,681,695명\n",
      "3. 시청 - 1,561,689명\n",
      "4. 서울역 - 1,488,051명\n",
      "5. 여의도 - 1,429,162명\n",
      "6. 역삼 - 1,393,149명\n",
      "7. 강남 - 1,319,144명\n",
      "8. 을지로입구 - 1,277,415명\n",
      "9. 삼성(무역센터) - 1,085,319명\n",
      "10. 종각 - 1,017,228명\n",
      "\n",
      "📌 퇴근시간 승차 상위 10개 역 (일평균 기준)\n",
      "1. 가산디지털단지 - 1,663,505명\n",
      "2. 선릉 - 1,421,336명\n",
      "3. 서울역 - 1,420,504명\n",
      "4. 강남 - 1,397,337명\n",
      "5. 시청 - 1,256,622명\n",
      "6. 여의도 - 1,233,526명\n",
      "7. 역삼 - 1,112,520명\n",
      "8. 을지로입구 - 1,082,443명\n",
      "9. 잠실(송파구청) - 1,019,663명\n",
      "10. 삼성(무역센터) - 994,653명\n",
      "\n",
      "📌 퇴근시간 하차 상위 10개 역 (일평균 기준)\n",
      "1. 홍대입구 - 1,106,624명\n",
      "2. 사당 - 1,058,363명\n",
      "3. 신림 - 971,702명\n",
      "4. 잠실(송파구청) - 911,782명\n",
      "5. 강남 - 885,566명\n",
      "6. 고속터미널 - 876,876명\n",
      "7. 건대입구 - 857,142명\n",
      "8. 신도림 - 771,750명\n",
      "9. 서울역 - 689,378명\n",
      "10. 구로디지털단지 - 656,293명\n"
     ]
    }
   ],
   "source": [
    "# 출력 실행\n",
    "print_top10(df_avg, '08시-09시 승차인원', '출근시간 승차')\n",
    "print_top10(df_avg, '08시-09시 하차인원', '출근시간 하차')\n",
    "print_top10(df_avg, '18시-19시 승차인원', '퇴근시간 승차')\n",
    "print_top10(df_avg, '18시-19시 하차인원', '퇴근시간 하차')"
   ]
  }
 ],
 "metadata": {
  "kernelspec": {
   "display_name": "Python 3 (ipykernel)",
   "language": "python",
   "name": "python3"
  },
  "language_info": {
   "codemirror_mode": {
    "name": "ipython",
    "version": 3
   },
   "file_extension": ".py",
   "mimetype": "text/x-python",
   "name": "python",
   "nbconvert_exporter": "python",
   "pygments_lexer": "ipython3",
   "version": "3.12.4"
  }
 },
 "nbformat": 4,
 "nbformat_minor": 5
}
