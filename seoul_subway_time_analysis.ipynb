{
 "cells": [
  {
   "cell_type": "markdown",
   "id": "3c26e0dc",
   "metadata": {},
   "source": [
    "# 서울시 지하철 시간대별 유동인구 분석 (히트맵 + 프롬프트 출력 포함)\n",
    "\n",
    "이 노트북은 시간대별 승하차 데이터를 기반으로 서울시 주요 혼잡 구간을 시각화하고,\n",
    "출근/퇴근 시간대의 상위 10개 혼잡역을 히트맵 및 프롬프트로 출력합니다."
   ]
  },
  {
   "cell_type": "code",
   "execution_count": null,
   "id": "ef9ff367",
   "metadata": {},
   "outputs": [],
   "source": [
    "import pandas as pd\n",
    "import folium\n",
    "from folium.plugins import HeatMap, MarkerCluster\n",
    "from folium.features import DivIcon\n",
    "\n",
    "# 데이터 로딩\n",
    "df_time = pd.read_csv('seoul_subway_by_time.csv', encoding='cp949')\n",
    "df_xy = pd.read_csv('seoul_subway_xy.csv')"
   ]
  },
  {
   "cell_type": "code",
   "execution_count": null,
   "id": "3f27801f",
   "metadata": {},
   "outputs": [],
   "source": [
    "# 전처리 및 병합\n",
    "df_time = df_time[['지하철역', '08시-09시 승차인원', '08시-09시 하차인원', '18시-19시 승차인원', '18시-19시 하차인원']].copy()\n",
    "df_time['지하철역'] = df_time['지하철역'].str.strip()\n",
    "df_grouped = df_time.groupby('지하철역').sum().reset_index()\n",
    "df_xy['역한글명칭'] = df_xy['역한글명칭'].str.strip()\n",
    "df_coords = df_xy.groupby('역한글명칭')[['환승역X좌표', '환승역Y좌표']].mean().reset_index()\n",
    "df = pd.merge(df_grouped, df_coords, left_on='지하철역', right_on='역한글명칭', how='inner')\n",
    "df['지도용X'] = df['환승역X좌표']\n",
    "df['지도용Y'] = df['환승역Y좌표']"
   ]
  },
  {
   "cell_type": "code",
   "execution_count": null,
   "id": "d2675054",
   "metadata": {},
   "outputs": [],
   "source": [
    "def draw_heatmap(df, value_col, color, map_filename):\n",
    "    m = folium.Map(location=[37.5665, 126.9780], zoom_start=11, tiles='CartoDB positron')\n",
    "    cluster = MarkerCluster().add_to(m)\n",
    "    heat_data = df[['지도용Y', '지도용X', value_col]].dropna().values.tolist()\n",
    "    HeatMap(heat_data, radius=15).add_to(m)\n",
    "    top10 = df.sort_values(by=value_col, ascending=False).head(10).reset_index(drop=True)\n",
    "    for i, row in top10.iterrows():\n",
    "        popup = f\"{row['지하철역']}<br>{value_col}: {int(row[value_col]):,}명\"\n",
    "        folium.CircleMarker(\n",
    "            location=[row['지도용Y'], row['지도용X']],\n",
    "            radius=9,\n",
    "            color=color,\n",
    "            fill=True,\n",
    "            fill_color=color,\n",
    "            fill_opacity=0.9,\n",
    "            popup=popup\n",
    "        ).add_to(cluster)\n",
    "        folium.map.Marker(\n",
    "            [row['지도용Y'], row['지도용X']],\n",
    "            icon=DivIcon(\n",
    "                icon_size=(20, 20),\n",
    "                icon_anchor=(5, -5),\n",
    "                html=f'<div style=\"font-size:12pt; color:white; background:{color}; border-radius:50%; width:22px; height:22px; text-align:center;\">{i+1}</div>'\n",
    "            )\n",
    "        ).add_to(m)\n",
    "    m.save(map_filename)\n",
    "    print(f\"\\n📍 {value_col} 기준 상위 10개 역 (일평균):\")\n",
    "    print((top10[[\"지하철역\", value_col]] / 31).round().astype(int).to_string(index=False))"
   ]
  },
  {
   "cell_type": "code",
   "execution_count": null,
   "id": "48c53fda",
   "metadata": {},
   "outputs": [],
   "source": [
    "# 히트맵 생성 실행\n",
    "draw_heatmap(df, '08시-09시 승차인원', 'blue', 'morning_boarding.html')\n",
    "draw_heatmap(df, '08시-09시 하차인원', 'green', 'morning_alighting.html')\n",
    "draw_heatmap(df, '18시-19시 승차인원', 'blue', 'evening_boarding.html')\n",
    "draw_heatmap(df, '18시-19시 하차인원', 'green', 'evening_alighting.html')"
   ]
  }
 ],
 "metadata": {},
 "nbformat": 4,
 "nbformat_minor": 5
}
